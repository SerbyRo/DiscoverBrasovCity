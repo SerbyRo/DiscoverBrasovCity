{
 "cells": [
  {
   "cell_type": "code",
   "execution_count": 1,
   "metadata": {
    "collapsed": true
   },
   "outputs": [],
   "source": [
    "import psycopg2\n",
    "\n",
    "\n",
    "conn = psycopg2.connect(\n",
    "        host=\"localhost\",\n",
    "        database=\"places\",\n",
    "        user=\"postgres\",\n",
    "        password=\"postgres\"\n",
    "    )\n",
    "cursor = conn.cursor()\n",
    "\n",
    "# extragem informatiile in rezolvarea problemi\n",
    "query = \"SELECT p.place_id, p.name, p.price, p.points, coalesce(AVG(f.stars), 0) AS stars, COUNT(DISTINCT v.visit_id) AS visits FROM places p LEFT JOIN feedbacks f ON p.place_id = f.place_id LEFT JOIN visits v ON p.place_id = v.place_id GROUP BY p.place_id, p.price, p.points\"\n",
    "cursor.execute(query)\n",
    "with open('data/places.csv', 'w', encoding='utf-8') as f:\n",
    "    f.write('place_id,name,price,points,stars,visits,target\\n')\n",
    "    places = []\n",
    "    for place in cursor.fetchall():\n",
    "        places.append(f'{place[0]},{place[1]},{place[2]},{place[3]},{place[4]},{place[5]}\\n')\n",
    "    f.writelines(places)\n",
    "\n",
    "cursor.close()\n",
    "conn.close()"
   ]
  }
 ],
 "metadata": {
  "kernelspec": {
   "display_name": "Python 3",
   "language": "python",
   "name": "python3"
  },
  "language_info": {
   "codemirror_mode": {
    "name": "ipython",
    "version": 2
   },
   "file_extension": ".py",
   "mimetype": "text/x-python",
   "name": "python",
   "nbconvert_exporter": "python",
   "pygments_lexer": "ipython2",
   "version": "2.7.6"
  }
 },
 "nbformat": 4,
 "nbformat_minor": 0
}
