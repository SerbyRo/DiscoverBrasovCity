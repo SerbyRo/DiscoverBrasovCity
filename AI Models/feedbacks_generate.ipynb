{
 "cells": [
  {
   "attachments": {},
   "cell_type": "markdown",
   "metadata": {
    "collapsed": false
   },
   "source": [
    "## Modelele necesare pentru generarea de feedback-uri"
   ]
  },
  {
   "cell_type": "code",
   "execution_count": 1,
   "metadata": {
    "collapsed": true
   },
   "outputs": [],
   "source": [
    "import psycopg2\n",
    "from datetime import datetime\n",
    "\n",
    "\n",
    "class User:\n",
    "    def __init__(self, user_id):\n",
    "        self.user_id = user_id\n",
    "\n",
    "\n",
    "class Place:\n",
    "    def __init__(self, place_id):\n",
    "        self.place_id = place_id\n",
    "\n",
    "class Feedback:\n",
    "    def __init__(self, text, stars, user, place):\n",
    "        self.feedback_id = None  # Va fi generat automat\n",
    "        self.text = text\n",
    "        self.stars = stars\n",
    "        self.user = user\n",
    "        self.place = place\n",
    "\n",
    "\n",
    "    def save_to_database(self, conn):\n",
    "        cursor = conn.cursor()\n",
    "\n",
    "        # Inserare feedback în baza de date\n",
    "        insert_query = \"INSERT INTO feedbacks (feedback_text, stars, user_id, place_id) VALUES (%s, %s, %s, %s) RETURNING feedback_id\"\n",
    "        try:\n",
    "            cursor.execute(insert_query, (self.text, str(self.stars), str(self.user.user_id), str(self.place.place_id)))\n",
    "            self.feedback_id = cursor.fetchone()[0]\n",
    "            conn.commit()\n",
    "            print(\"Feedback inserat cu succes!\")\n",
    "        except psycopg2.IntegrityError:\n",
    "            conn.rollback()\n",
    "            print(\"Eroare: Perechea user_id și place_id este duplicată!\")\n",
    "\n",
    "        cursor.close()\n",
    "\n",
    "class Visit:\n",
    "    def __init__(self, user, place):\n",
    "        self.visit_id = None\n",
    "        self.user = user\n",
    "        self.place = place\n",
    "        self.visited_at = datetime.now()\n",
    "\n",
    "    def save_to_database(self, conn):\n",
    "        cursor = conn.cursor()\n",
    "\n",
    "        # Inserare feedback în baza de date\n",
    "        insert_query = \"INSERT INTO visits (user_id, place_id, visited_at) VALUES (%s, %s, %s) RETURNING visit_id\"\n",
    "        try:\n",
    "            cursor.execute(insert_query, (self.user.user_id, self.place.place_id, self.visited_at))\n",
    "            self.visit_id = cursor.fetchone()[0]\n",
    "            conn.commit()\n",
    "            print(\"Vizita inserata cu succes!\")\n",
    "        except psycopg2.IntegrityError:\n",
    "            conn.rollback()\n",
    "            print(\"Eroare: Perechea user_id și place_id este duplicată!\")\n",
    "\n",
    "        cursor.close()"
   ]
  },
  {
   "attachments": {},
   "cell_type": "markdown",
   "metadata": {
    "collapsed": false
   },
   "source": [
    "## Modelul cu care vom genera textul pentru feedback-uri"
   ]
  },
  {
   "cell_type": "code",
   "execution_count": 2,
   "metadata": {
    "collapsed": false
   },
   "outputs": [
    {
     "name": "stderr",
     "output_type": "stream",
     "text": [
      "WARNING[XFORMERS]: xFormers can't load C++/CUDA extensions. xFormers was built for:\n",
      "    PyTorch 2.0.1+cu118 with CUDA 1108 (you have 2.0.1+cpu)\n",
      "    Python  3.11.3 (you have 3.11.2)\n",
      "  Please reinstall xformers (see https://github.com/facebookresearch/xformers#installing-xformers)\n",
      "  Memory-efficient attention, SwiGLU, sparse and more won't be available.\n",
      "  Set XFORMERS_MORE_DETAILS=1 for more details\n"
     ]
    }
   ],
   "source": [
    "from transformers import pipeline\n",
    "\n",
    "text_generation = pipeline('text-generation', model='gpt2-large')\n",
    "def generate_text_with_prefix(prefix: str):\n",
    "    generated_text = text_generation(prefix, max_length=50, do_sample=False)[0]\n",
    "    return generated_text['generated_text']"
   ]
  },
  {
   "cell_type": "code",
   "execution_count": 12,
   "metadata": {
    "collapsed": false
   },
   "outputs": [
    {
     "name": "stderr",
     "output_type": "stream",
     "text": [
      "Setting `pad_token_id` to `eos_token_id`:50256 for open-end generation.\n"
     ]
    },
    {
     "data": {
      "text/plain": [
       "\"5 star review by mami: Brasov's tourist attraction Black Church is a beautiful and unique place. It is a place of worship and a place of prayer. It is a place of peace and a place of prayer. It is a place of\""
      ]
     },
     "execution_count": 12,
     "metadata": {},
     "output_type": "execute_result"
    }
   ],
   "source": [
    "generate_text_with_prefix(\"5 star review by mami: Brasov's tourist attraction Black Church is\")"
   ]
  },
  {
   "attachments": {},
   "cell_type": "markdown",
   "metadata": {
    "collapsed": false
   },
   "source": [
    "## Generarea de feedback-uri"
   ]
  },
  {
   "cell_type": "code",
   "execution_count": 3,
   "metadata": {
    "collapsed": false
   },
   "outputs": [
    {
     "name": "stderr",
     "output_type": "stream",
     "text": [
      "Setting `pad_token_id` to `eos_token_id`:50256 for open-end generation.\n",
      "Setting `pad_token_id` to `eos_token_id`:50256 for open-end generation.\n"
     ]
    },
    {
     "name": "stdout",
     "output_type": "stream",
     "text": [
      "Paradisul Acvatic is a beautiful and unique place. It is a place where you can see the sun rise and set, and the sun rises and sets in the same place\n",
      "Feedback inserat cu succes!\n"
     ]
    },
    {
     "name": "stderr",
     "output_type": "stream",
     "text": [
      "Setting `pad_token_id` to `eos_token_id`:50256 for open-end generation.\n"
     ]
    },
    {
     "name": "stdout",
     "output_type": "stream",
     "text": [
      "Diferența este mică, dar esențială, iar rezultatul este vizibil după un timp relativ scurt.\n",
      "Feedback inserat cu succes!\n"
     ]
    },
    {
     "name": "stderr",
     "output_type": "stream",
     "text": [
      "Setting `pad_token_id` to `eos_token_id`:50256 for open-end generation.\n"
     ]
    },
    {
     "name": "stdout",
     "output_type": "stream",
     "text": [
      "Este un oraș din regiunea românească a Transilvaniei, înconjurat de Carpați.<g id=\"1\"> </g>\n",
      "Feedback inserat cu succes!\n"
     ]
    },
    {
     "name": "stderr",
     "output_type": "stream",
     "text": [
      "Setting `pad_token_id` to `eos_token_id`:50256 for open-end generation.\n"
     ]
    },
    {
     "name": "stdout",
     "output_type": "stream",
     "text": [
      "Lacul Noua is a beautiful and unique place. It is a small village in the middle of the forest, surrounded by a beautiful lake\n",
      "Feedback inserat cu succes!\n"
     ]
    },
    {
     "name": "stderr",
     "output_type": "stream",
     "text": [
      "Setting `pad_token_id` to `eos_token_id`:50256 for open-end generation.\n"
     ]
    },
    {
     "name": "stdout",
     "output_type": "stream",
     "text": [
      "Cetatea Făgărașului is a beautiful and unique place. It is a small village in the middle of the forest, surrounded by a\n",
      "Feedback inserat cu succes!\n"
     ]
    },
    {
     "name": "stderr",
     "output_type": "stream",
     "text": [
      "Setting `pad_token_id` to `eos_token_id`:50256 for open-end generation.\n"
     ]
    },
    {
     "name": "stdout",
     "output_type": "stream",
     "text": [
      "Ossining este o localitate urbană în comitatul Westchester, statul , SUA.\n",
      "Feedback inserat cu succes!\n"
     ]
    },
    {
     "name": "stderr",
     "output_type": "stream",
     "text": [
      "Setting `pad_token_id` to `eos_token_id`:50256 for open-end generation.\n"
     ]
    },
    {
     "name": "stdout",
     "output_type": "stream",
     "text": [
      "Belvedere Brașov is a beautiful and unique attraction in the Romanian capital. It is a large, circular, circular, circular, circular, circular, circular, circular, circular\n",
      "Feedback inserat cu succes!\n"
     ]
    },
    {
     "name": "stderr",
     "output_type": "stream",
     "text": [
      "Setting `pad_token_id` to `eos_token_id`:50256 for open-end generation.\n"
     ]
    },
    {
     "name": "stdout",
     "output_type": "stream",
     "text": [
      "Castelul Peleș is a beautiful and unique attraction in the city of Brasov, Romania. It is a small, but very interesting, attraction\n",
      "Feedback inserat cu succes!\n"
     ]
    },
    {
     "name": "stderr",
     "output_type": "stream",
     "text": [
      "Setting `pad_token_id` to `eos_token_id`:50256 for open-end generation.\n"
     ]
    },
    {
     "name": "stdout",
     "output_type": "stream",
     "text": [
      "Parcul Central is a beautiful and unique place. It is a very popular tourist attraction and is a great place to visit\n",
      "Feedback inserat cu succes!\n",
      "Dino Parc Rasnov is a small, but very interesting, attraction. It is located in the town of Brasov, Romania, and is a small, but very interesting, attraction\n",
      "Feedback inserat cu succes!\n"
     ]
    }
   ],
   "source": [
    "import random\n",
    "from translate import Translator\n",
    "\n",
    "\n",
    "# Generare feedback-uri aleatorii\n",
    "feedbacks_count = 10\n",
    "conn = psycopg2.connect(\n",
    "        host=\"localhost\",\n",
    "        database=\"places\",\n",
    "        user=\"postgres\",\n",
    "        password=\"postgres\"\n",
    "    )\n",
    "for i in range(feedbacks_count):\n",
    "    translator = Translator(from_lang='romanian', to_lang='english')\n",
    "    translatorRo = Translator(from_lang='english', to_lang='romanian')\n",
    "    cursor = conn.cursor()\n",
    "    stars = random.randint(1, 5)\n",
    "\n",
    "    # Obținere utilizator aleatoriu\n",
    "    user_query = \"SELECT id, username FROM _user ORDER BY RANDOM() LIMIT 1\"\n",
    "    cursor.execute(user_query)\n",
    "    [user_id, username] = cursor.fetchone()\n",
    "\n",
    "    # Obținere loc aleatoriu\n",
    "    place_query = \"SELECT p.place_id, p.name FROM places p LEFT JOIN feedbacks f ON p.place_id = f.place_id GROUP BY p.place_id, p.name HAVING COUNT(f.*) <= ALL (SELECT COUNT(f.*) FROM places p LEFT JOIN feedbacks f ON p.place_id = f.place_id GROUP BY p.place_id) ORDER BY RANDOM() LIMIT 1\"\n",
    "    cursor.execute(place_query)\n",
    "    [place_id, place_name] = cursor.fetchone()\n",
    "\n",
    "    start = f\"{stars} review by {username}: Brasov, Romania, tourist attraction \"\n",
    "    # place_name = translator.translate(place_name)\n",
    "    text = generate_text_with_prefix(start + place_name + ' is')\n",
    "    text = text[len(start):]\n",
    "    text = '.'.join(text.split('.')[:2])\n",
    "    if random.random() > 0.75:\n",
    "        text = translatorRo.translate(text)\n",
    "    if len(text) > 240:\n",
    "        text = text[:240]\n",
    "    print(text)\n",
    "\n",
    "    feedback = Feedback(text, stars, User(int(user_id)), Place(int(place_id)))\n",
    "    feedback.save_to_database(conn)\n",
    "    cursor.close()\n",
    "\n",
    "conn.close()"
   ]
  },
  {
   "cell_type": "code",
   "execution_count": 10,
   "metadata": {
    "collapsed": false
   },
   "outputs": [
    {
     "name": "stdout",
     "output_type": "stream",
     "text": [
      "Vizita inserata cu succes!\n",
      "Vizita inserata cu succes!\n",
      "Vizita inserata cu succes!\n",
      "Vizita inserata cu succes!\n",
      "Vizita inserata cu succes!\n",
      "Vizita inserata cu succes!\n",
      "Vizita inserata cu succes!\n",
      "Vizita inserata cu succes!\n",
      "Vizita inserata cu succes!\n",
      "Vizita inserata cu succes!\n",
      "Vizita inserata cu succes!\n",
      "Vizita inserata cu succes!\n",
      "Vizita inserata cu succes!\n",
      "Vizita inserata cu succes!\n",
      "Vizita inserata cu succes!\n",
      "Vizita inserata cu succes!\n",
      "Vizita inserata cu succes!\n",
      "Eroare: Perechea user_id și place_id este duplicată!\n",
      "Vizita inserata cu succes!\n",
      "Vizita inserata cu succes!\n",
      "Vizita inserata cu succes!\n",
      "Vizita inserata cu succes!\n",
      "Vizita inserata cu succes!\n",
      "Vizita inserata cu succes!\n",
      "Vizita inserata cu succes!\n",
      "Vizita inserata cu succes!\n",
      "Vizita inserata cu succes!\n",
      "Vizita inserata cu succes!\n",
      "Vizita inserata cu succes!\n",
      "Vizita inserata cu succes!\n",
      "Vizita inserata cu succes!\n",
      "Vizita inserata cu succes!\n",
      "Vizita inserata cu succes!\n",
      "Vizita inserata cu succes!\n",
      "Vizita inserata cu succes!\n",
      "Vizita inserata cu succes!\n",
      "Vizita inserata cu succes!\n",
      "Vizita inserata cu succes!\n",
      "Vizita inserata cu succes!\n",
      "Vizita inserata cu succes!\n",
      "Vizita inserata cu succes!\n",
      "Eroare: Perechea user_id și place_id este duplicată!\n",
      "Vizita inserata cu succes!\n",
      "Vizita inserata cu succes!\n",
      "Vizita inserata cu succes!\n",
      "Vizita inserata cu succes!\n",
      "Vizita inserata cu succes!\n",
      "Vizita inserata cu succes!\n",
      "Vizita inserata cu succes!\n",
      "Vizita inserata cu succes!\n",
      "Vizita inserata cu succes!\n",
      "Vizita inserata cu succes!\n",
      "Vizita inserata cu succes!\n",
      "Vizita inserata cu succes!\n",
      "Vizita inserata cu succes!\n",
      "Vizita inserata cu succes!\n",
      "Vizita inserata cu succes!\n",
      "Vizita inserata cu succes!\n",
      "Eroare: Perechea user_id și place_id este duplicată!\n",
      "Vizita inserata cu succes!\n",
      "Vizita inserata cu succes!\n",
      "Eroare: Perechea user_id și place_id este duplicată!\n",
      "Vizita inserata cu succes!\n",
      "Vizita inserata cu succes!\n",
      "Eroare: Perechea user_id și place_id este duplicată!\n",
      "Eroare: Perechea user_id și place_id este duplicată!\n",
      "Vizita inserata cu succes!\n",
      "Vizita inserata cu succes!\n",
      "Vizita inserata cu succes!\n",
      "Vizita inserata cu succes!\n",
      "Vizita inserata cu succes!\n",
      "Eroare: Perechea user_id și place_id este duplicată!\n",
      "Vizita inserata cu succes!\n",
      "Vizita inserata cu succes!\n",
      "Vizita inserata cu succes!\n",
      "Vizita inserata cu succes!\n",
      "Eroare: Perechea user_id și place_id este duplicată!\n",
      "Vizita inserata cu succes!\n",
      "Vizita inserata cu succes!\n",
      "Vizita inserata cu succes!\n",
      "Vizita inserata cu succes!\n",
      "Vizita inserata cu succes!\n",
      "Vizita inserata cu succes!\n",
      "Vizita inserata cu succes!\n",
      "Vizita inserata cu succes!\n",
      "Vizita inserata cu succes!\n",
      "Eroare: Perechea user_id și place_id este duplicată!\n",
      "Eroare: Perechea user_id și place_id este duplicată!\n",
      "Vizita inserata cu succes!\n",
      "Vizita inserata cu succes!\n",
      "Vizita inserata cu succes!\n",
      "Vizita inserata cu succes!\n",
      "Eroare: Perechea user_id și place_id este duplicată!\n",
      "Vizita inserata cu succes!\n",
      "Eroare: Perechea user_id și place_id este duplicată!\n"
     ]
    }
   ],
   "source": [
    "# inseram vizite\n",
    "\n",
    "visits_count = 95\n",
    "conn = psycopg2.connect(\n",
    "        host=\"localhost\",\n",
    "        database=\"places\",\n",
    "        user=\"postgres\",\n",
    "        password=\"postgres\"\n",
    "    )\n",
    "cursor = conn.cursor()\n",
    "for _ in range(visits_count):\n",
    "    # Obținere utilizator aleatoriu\n",
    "    user_query = \"SELECT id FROM _user ORDER BY RANDOM() LIMIT 1\"\n",
    "    cursor.execute(user_query)\n",
    "    user_id = cursor.fetchone()[0]\n",
    "\n",
    "    # Obținere loc aleatoriu\n",
    "    place_query = \"SELECT place_id FROM places ORDER BY RANDOM() LIMIT 1\"\n",
    "    cursor.execute(place_query)\n",
    "    place_id = cursor.fetchone()[0]\n",
    "\n",
    "    visit = Visit(User(user_id), Place(place_id))\n",
    "    visit.save_to_database(conn)\n",
    "cursor.close()\n",
    "conn.close()"
   ]
  },
  {
   "attachments": {},
   "cell_type": "markdown",
   "metadata": {},
   "source": [
    "## Actualizare date"
   ]
  },
  {
   "cell_type": "code",
   "execution_count": null,
   "metadata": {
    "collapsed": false
   },
   "outputs": [],
   "source": [
    "conn = psycopg2.connect(\n",
    "        host=\"localhost\",\n",
    "        database=\"places\",\n",
    "        user=\"postgres\",\n",
    "        password=\"postgres\"\n",
    "    )\n",
    "cursor = conn.cursor()\n",
    "update_query = \"\"\" \n",
    "    UPDATE _user U2\n",
    "    SET personal_score = (\n",
    "        SELECT SUM(p.points) AS points FROM _user U\n",
    "            INNER JOIN visits v on U.id = v.user_id\n",
    "            INNER JOIN places p ON v.place_id = p.place_id\n",
    "            WHERE U2.id = U.id) + (\n",
    "        SELECT COUNT(F) AS feedback FROM _user U\n",
    "            INNER JOIN feedbacks F on U.id = F.user_id\n",
    "            WHERE U2.id = U.id)\n",
    " \"\"\"\n",
    "cursor.execute(update_query)\n",
    "conn.commit()\n",
    "cursor.close()\n",
    "conn.close()"
   ]
  },
  {
   "cell_type": "code",
   "execution_count": null,
   "metadata": {},
   "outputs": [],
   "source": []
  }
 ],
 "metadata": {
  "kernelspec": {
   "display_name": "Python 3",
   "language": "python",
   "name": "python3"
  },
  "language_info": {
   "codemirror_mode": {
    "name": "ipython",
    "version": 2
   },
   "file_extension": ".py",
   "mimetype": "text/x-python",
   "name": "python",
   "nbconvert_exporter": "python",
   "pygments_lexer": "ipython2",
   "version": "2.7.6"
  }
 },
 "nbformat": 4,
 "nbformat_minor": 0
}
